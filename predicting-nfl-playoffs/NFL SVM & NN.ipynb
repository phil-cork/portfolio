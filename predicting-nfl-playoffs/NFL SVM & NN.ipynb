{
 "cells": [
  {
   "cell_type": "code",
   "execution_count": 1,
   "metadata": {},
   "outputs": [],
   "source": [
    "# import libraries and helpful functions \n",
    "\n",
    "import pandas as pd \n",
    "import numpy as np\n",
    "import sklearn.model_selection as model_selection\n",
    "from sklearn import metrics\n",
    "from sklearn import svm\n",
    "from sklearn.linear_model import SGDClassifier\n",
    "from sklearn.model_selection import GridSearchCV\n",
    "\n",
    "from sklearn import preprocessing\n",
    "from sklearn.metrics import confusion_matrix\n",
    "from sklearn.metrics import classification_report \n",
    "from sklearn.neural_network import MLPClassifier"
   ]
  },
  {
   "cell_type": "code",
   "execution_count": 2,
   "metadata": {},
   "outputs": [],
   "source": [
    "team_file = 'teams_final.csv'\n",
    "teams = pd.read_csv(team_file)"
   ]
  },
  {
   "cell_type": "code",
   "execution_count": 3,
   "metadata": {},
   "outputs": [],
   "source": [
    "X = teams.drop(['team',\n",
    "                     'sum',\n",
    "                     'playoff_Wildcard', \n",
    "                     'playoff_Division',\n",
    "                     'playoff_Conference', \n",
    "                     'playoff_Superbowl',\n",
    "                     'division_win', \n",
    "                     'conference_win'], axis=1)\n",
    "X = preprocessing.scale(X)\n",
    "y = teams['playoff_Conference']\n",
    "\n",
    "X_train, X_test, y_train, y_test = model_selection.train_test_split(X, y, \n",
    "                                                                    train_size=0.8, \n",
    "                                                                    test_size=0.2, \n",
    "                                                                    random_state=11)"
   ]
  },
  {
   "cell_type": "markdown",
   "metadata": {},
   "source": [
    "## Support Vector Machines"
   ]
  },
  {
   "cell_type": "code",
   "execution_count": 4,
   "metadata": {},
   "outputs": [
    {
     "name": "stdout",
     "output_type": "stream",
     "text": [
      "SVR(C=1.0, cache_size=200, coef0=0.0, degree=3, epsilon=0.1, gamma='scale',\n",
      "    kernel='rbf', max_iter=-1, shrinking=True, tol=0.001, verbose=False)\n",
      "Accuracy: 0.6447368421052632\n",
      "[[42  8]\n",
      " [19  7]]\n",
      "              precision    recall  f1-score   support\n",
      "\n",
      "           0       0.69      0.84      0.76        50\n",
      "           1       0.47      0.27      0.34        26\n",
      "\n",
      "    accuracy                           0.64        76\n",
      "   macro avg       0.58      0.55      0.55        76\n",
      "weighted avg       0.61      0.64      0.61        76\n",
      "\n"
     ]
    }
   ],
   "source": [
    "## Create a SVM instance with no tuning\n",
    "## once we get the predictions, round them to 0 or 1, take the absolute value, \n",
    "# and turn them to integers to create confusion matrix\n",
    "\n",
    "clf = svm.SVR()\n",
    "clf.fit(X_train, y_train)\n",
    "y_pred = clf.predict(X_test)\n",
    "y_pred = np.around(y_pred)\n",
    "y_pred = np.abs(y_pred)\n",
    "y_pred = y_pred.astype('int') \n",
    "\n",
    "print(clf)\n",
    "print(\"Accuracy:\",metrics.accuracy_score(y_test, y_pred))\n",
    "print(confusion_matrix(y_test, y_pred))\n",
    "print(classification_report(y_test,y_pred))\n"
   ]
  },
  {
   "cell_type": "code",
   "execution_count": 5,
   "metadata": {},
   "outputs": [
    {
     "name": "stdout",
     "output_type": "stream",
     "text": [
      "{'C': 10, 'gamma': 0.001}\n"
     ]
    }
   ],
   "source": [
    "## this function gives us the recommended C and gamma parameters based on the kernel\n",
    "## placed within the grid search definiti8on\n",
    "\n",
    "def svc_param_selection(X, y, nfolds):\n",
    "    Cs = [0.001, 0.01, 0.1, 1, 10]\n",
    "    gammas = [0.001, 0.01, 0.1, 1]\n",
    "    param_grid = {'C': Cs, 'gamma' : gammas}\n",
    "    grid_search = GridSearchCV(svm.SVC(kernel='rbf'), param_grid, cv=nfolds)\n",
    "    grid_search.fit(X, y)\n",
    "    grid_search.best_params_\n",
    "    return grid_search.best_params_\n",
    "\n",
    "print(svc_param_selection(X, y, 64))"
   ]
  },
  {
   "cell_type": "code",
   "execution_count": 21,
   "metadata": {},
   "outputs": [
    {
     "name": "stdout",
     "output_type": "stream",
     "text": [
      "SVR(C=10, cache_size=200, coef0=0.0, degree=3, epsilon=0.1, gamma='scale',\n",
      "    kernel='rbf', max_iter=-1, shrinking=True, tol=0.001, verbose=False)\n",
      "Accuracy: 0.631578947368421\n",
      "[[40 10]\n",
      " [18  8]]\n",
      "              precision    recall  f1-score   support\n",
      "\n",
      "           0       0.69      0.80      0.74        50\n",
      "           1       0.44      0.31      0.36        26\n",
      "\n",
      "    accuracy                           0.63        76\n",
      "   macro avg       0.57      0.55      0.55        76\n",
      "weighted avg       0.61      0.63      0.61        76\n",
      "\n"
     ]
    }
   ],
   "source": [
    "## Next, SVM with the recommended parameters, same kernel\n",
    "\n",
    "clf = svm.SVR(C=10, kernel='rbf')\n",
    "clf.fit(X_train, y_train)\n",
    "y_pred = clf.predict(X_test)\n",
    "y_pred = np.around(y_pred)\n",
    "y_pred = np.abs(y_pred)\n",
    "y_pred = y_pred.astype('int') \n",
    "\n",
    "print(clf)\n",
    "print(\"Accuracy:\",metrics.accuracy_score(y_test, y_pred))\n",
    "print(confusion_matrix(y_test, y_pred))\n",
    "print(classification_report(y_test,y_pred))"
   ]
  },
  {
   "cell_type": "code",
   "execution_count": 22,
   "metadata": {},
   "outputs": [
    {
     "name": "stdout",
     "output_type": "stream",
     "text": [
      "SVC(C=1.0, break_ties=False, cache_size=200, class_weight=None, coef0=0.0,\n",
      "    decision_function_shape='ovr', degree=3, gamma='scale', kernel='linear',\n",
      "    max_iter=-1, probability=False, random_state=None, shrinking=True,\n",
      "    tol=0.001, verbose=False)\n",
      "Accuracy: 0.6842105263157895\n",
      "[[43  7]\n",
      " [17  9]]\n",
      "              precision    recall  f1-score   support\n",
      "\n",
      "           0       0.72      0.86      0.78        50\n",
      "           1       0.56      0.35      0.43        26\n",
      "\n",
      "    accuracy                           0.68        76\n",
      "   macro avg       0.64      0.60      0.61        76\n",
      "weighted avg       0.66      0.68      0.66        76\n",
      "\n"
     ]
    }
   ],
   "source": [
    "# Using a linear kernel instead, we see a small improvement in our precision\n",
    "# when classifying Conference participants\n",
    "\n",
    "wclf = svm.SVC(kernel='linear')\n",
    "wclf.fit(X_train, y_train)\n",
    "y_pred = wclf.predict(X_test)\n",
    "y_pred = np.around(y_pred)\n",
    "y_pred = np.abs(y_pred)\n",
    "y_pred = y_pred.astype('int') \n",
    "print(wclf)\n",
    "print(\"Accuracy:\",metrics.accuracy_score(y_test, y_pred))\n",
    "print(confusion_matrix(y_test, y_pred))\n",
    "print(classification_report(y_test,y_pred))"
   ]
  },
  {
   "cell_type": "code",
   "execution_count": 10,
   "metadata": {},
   "outputs": [
    {
     "name": "stdout",
     "output_type": "stream",
     "text": [
      "b =  [0.27570435]\n",
      "Number of support vectors for each class =  [263]\n"
     ]
    }
   ],
   "source": [
    "## Get all of the mathematical elements of our SVM\n",
    "\n",
    "# print('w = ',clf.coef_)\n",
    "print('b = ',clf.intercept_)\n",
    "# print('Indices of support vectors = ', clf.support_)\n",
    "# print('Support vectors = ', clf.support_vectors_)\n",
    "print('Number of support vectors for each class = ', clf.n_support_)\n",
    "# print('Coefficients of the support vector in the decision function = ', np.abs(clf.dual_coef_))"
   ]
  },
  {
   "cell_type": "code",
   "execution_count": 20,
   "metadata": {
    "scrolled": true
   },
   "outputs": [
    {
     "name": "stdout",
     "output_type": "stream",
     "text": [
      "[[50  0]\n",
      " [ 0 26]]\n"
     ]
    }
   ],
   "source": [
    "## Get the 'perfect' spread of our dependent variable\n",
    "print(confusion_matrix(y_test,y_test))"
   ]
  },
  {
   "cell_type": "markdown",
   "metadata": {},
   "source": [
    "## Neural Nets"
   ]
  },
  {
   "cell_type": "code",
   "execution_count": 12,
   "metadata": {},
   "outputs": [
    {
     "name": "stdout",
     "output_type": "stream",
     "text": [
      "[[39 11]\n",
      " [18  8]]\n",
      "Accuracy: 0.618421052631579\n",
      "              precision    recall  f1-score   support\n",
      "\n",
      "           0       0.68      0.78      0.73        50\n",
      "           1       0.42      0.31      0.36        26\n",
      "\n",
      "    accuracy                           0.62        76\n",
      "   macro avg       0.55      0.54      0.54        76\n",
      "weighted avg       0.59      0.62      0.60        76\n",
      "\n",
      "MLPClassifier(activation='relu', alpha=0.0001, batch_size='auto', beta_1=0.9,\n",
      "              beta_2=0.999, early_stopping=False, epsilon=1e-08,\n",
      "              hidden_layer_sizes=(100,), learning_rate='constant',\n",
      "              learning_rate_init=0.001, max_fun=15000, max_iter=200,\n",
      "              momentum=0.9, n_iter_no_change=10, nesterovs_momentum=True,\n",
      "              power_t=0.5, random_state=1137, shuffle=True, solver='adam',\n",
      "              tol=0.0001, validation_fraction=0.1, verbose=False,\n",
      "              warm_start=False)\n"
     ]
    },
    {
     "name": "stderr",
     "output_type": "stream",
     "text": [
      "/Users/prcork/scikit-learn/sklearn/neural_network/_multilayer_perceptron.py:585: ConvergenceWarning: Stochastic Optimizer: Maximum iterations (200) reached and the optimization hasn't converged yet.\n",
      "  % self.max_iter, ConvergenceWarning)\n"
     ]
    }
   ],
   "source": [
    "## Create neural net with no parameters except random state\n",
    "\n",
    "mlp = MLPClassifier(random_state=1137)\n",
    "mlp.fit(X_train,y_train)\n",
    "predictions = mlp.predict(X_test)\n",
    "print(confusion_matrix(y_test,predictions))\n",
    "print(\"Accuracy:\",metrics.accuracy_score(y_test, predictions))\n",
    "print(classification_report(y_test,predictions))\n",
    "print(mlp)"
   ]
  },
  {
   "cell_type": "code",
   "execution_count": 13,
   "metadata": {},
   "outputs": [
    {
     "name": "stdout",
     "output_type": "stream",
     "text": [
      "[[32 18]\n",
      " [13 13]]\n",
      "Accuracy: 0.5921052631578947\n",
      "              precision    recall  f1-score   support\n",
      "\n",
      "           0       0.71      0.64      0.67        50\n",
      "           1       0.42      0.50      0.46        26\n",
      "\n",
      "    accuracy                           0.59        76\n",
      "   macro avg       0.57      0.57      0.56        76\n",
      "weighted avg       0.61      0.59      0.60        76\n",
      "\n",
      "MLPClassifier(activation='relu', alpha=0.0001, batch_size='auto', beta_1=0.9,\n",
      "              beta_2=0.999, early_stopping=False, epsilon=1e-08,\n",
      "              hidden_layer_sizes=(8, 6), learning_rate='constant',\n",
      "              learning_rate_init=0.001, max_fun=15000, max_iter=1500,\n",
      "              momentum=0.9, n_iter_no_change=10, nesterovs_momentum=True,\n",
      "              power_t=0.5, random_state=1137, shuffle=True, solver='adam',\n",
      "              tol=0.0001, validation_fraction=0.1, verbose=False,\n",
      "              warm_start=False)\n"
     ]
    }
   ],
   "source": [
    "## Create NN with default solver but with specified layer architecture chosen after some initial experimentation.\n",
    "\n",
    "mlp = MLPClassifier(hidden_layer_sizes=(8,6),max_iter=1500, random_state=1137)\n",
    "mlp.fit(X_train,y_train)\n",
    "predictions = mlp.predict(X_test)\n",
    "print(confusion_matrix(y_test,predictions))\n",
    "print(\"Accuracy:\",metrics.accuracy_score(y_test, predictions))\n",
    "print(classification_report(y_test,predictions))\n",
    "print(mlp)"
   ]
  },
  {
   "cell_type": "code",
   "execution_count": 14,
   "metadata": {},
   "outputs": [
    {
     "name": "stdout",
     "output_type": "stream",
     "text": [
      "[[40 10]\n",
      " [15 11]]\n",
      "Accuracy: 0.6710526315789473\n",
      "              precision    recall  f1-score   support\n",
      "\n",
      "           0       0.73      0.80      0.76        50\n",
      "           1       0.52      0.42      0.47        26\n",
      "\n",
      "    accuracy                           0.67        76\n",
      "   macro avg       0.63      0.61      0.61        76\n",
      "weighted avg       0.66      0.67      0.66        76\n",
      "\n",
      "MLPClassifier(activation='relu', alpha=0.0001, batch_size='auto', beta_1=0.9,\n",
      "              beta_2=0.999, early_stopping=False, epsilon=1e-08,\n",
      "              hidden_layer_sizes=(8, 6), learning_rate='constant',\n",
      "              learning_rate_init=0.001, max_fun=15000, max_iter=5000,\n",
      "              momentum=0.9, n_iter_no_change=10, nesterovs_momentum=True,\n",
      "              power_t=0.5, random_state=1137, shuffle=True, solver='sgd',\n",
      "              tol=0.0001, validation_fraction=0.1, verbose=False,\n",
      "              warm_start=False)\n"
     ]
    }
   ],
   "source": [
    "## Use the same architecture, but the gradient descent solver\n",
    "\n",
    "mlp = MLPClassifier(hidden_layer_sizes=(8,6), solver='sgd', max_iter=5000, random_state=1137)\n",
    "mlp.fit(X_train,y_train)\n",
    "predictions = mlp.predict(X_test)\n",
    "print(confusion_matrix(y_test,predictions))\n",
    "print(\"Accuracy:\",metrics.accuracy_score(y_test, predictions))\n",
    "print(classification_report(y_test,predictions))\n",
    "print(mlp)"
   ]
  },
  {
   "cell_type": "code",
   "execution_count": 15,
   "metadata": {},
   "outputs": [
    {
     "name": "stdout",
     "output_type": "stream",
     "text": [
      "[[34 16]\n",
      " [11 15]]\n",
      "Accuracy: 0.6447368421052632\n",
      "              precision    recall  f1-score   support\n",
      "\n",
      "           0       0.76      0.68      0.72        50\n",
      "           1       0.48      0.58      0.53        26\n",
      "\n",
      "    accuracy                           0.64        76\n",
      "   macro avg       0.62      0.63      0.62        76\n",
      "weighted avg       0.66      0.64      0.65        76\n",
      "\n",
      "MLPClassifier(activation='relu', alpha=0.0001, batch_size='auto', beta_1=0.9,\n",
      "              beta_2=0.999, early_stopping=False, epsilon=1e-08,\n",
      "              hidden_layer_sizes=(8, 6), learning_rate='constant',\n",
      "              learning_rate_init=0.001, max_fun=15000, max_iter=5000,\n",
      "              momentum=0.9, n_iter_no_change=10, nesterovs_momentum=True,\n",
      "              power_t=0.5, random_state=1137, shuffle=True, solver='lbfgs',\n",
      "              tol=0.0001, validation_fraction=0.1, verbose=False,\n",
      "              warm_start=False)\n"
     ]
    }
   ],
   "source": [
    "## Use yet another solver designed for smaller data sets, the lbfgs algorithm.\n",
    "\n",
    "mlp = MLPClassifier(hidden_layer_sizes=(8,6), solver='lbfgs', max_iter=5000, random_state=1137)\n",
    "mlp.fit(X_train,y_train)\n",
    "predictions = mlp.predict(X_test)\n",
    "print(confusion_matrix(y_test,predictions))\n",
    "print(\"Accuracy:\",metrics.accuracy_score(y_test, predictions))\n",
    "print(classification_report(y_test,predictions))\n",
    "print(mlp)"
   ]
  },
  {
   "cell_type": "code",
   "execution_count": 16,
   "metadata": {},
   "outputs": [
    {
     "name": "stdout",
     "output_type": "stream",
     "text": [
      "[[40 10]\n",
      " [14 12]]\n",
      "Accuracy: 0.6842105263157895\n",
      "              precision    recall  f1-score   support\n",
      "\n",
      "           0       0.74      0.80      0.77        50\n",
      "           1       0.55      0.46      0.50        26\n",
      "\n",
      "    accuracy                           0.68        76\n",
      "   macro avg       0.64      0.63      0.63        76\n",
      "weighted avg       0.67      0.68      0.68        76\n",
      "\n",
      "MLPClassifier(activation='logistic', alpha=0.0001, batch_size='auto',\n",
      "              beta_1=0.9, beta_2=0.999, early_stopping=True, epsilon=1e-08,\n",
      "              hidden_layer_sizes=1, learning_rate='constant',\n",
      "              learning_rate_init=0.001, max_fun=15000, max_iter=5000,\n",
      "              momentum=0.9, n_iter_no_change=10, nesterovs_momentum=True,\n",
      "              power_t=0.5, random_state=1137, shuffle=True, solver='lbfgs',\n",
      "              tol=0.0001, validation_fraction=0.1, verbose=False,\n",
      "              warm_start=False)\n"
     ]
    }
   ],
   "source": [
    "## Using the lbfgs algorithm, but simplifying the architecture significantly.\n",
    "\n",
    "mlp = MLPClassifier(hidden_layer_sizes=(1), solver='lbfgs', max_iter=5000, random_state=1137, early_stopping=True,\n",
    "                   activation='logistic')\n",
    "mlp.fit(X_train,y_train)\n",
    "predictions = mlp.predict(X_test)\n",
    "print(confusion_matrix(y_test,predictions))\n",
    "print(\"Accuracy:\",metrics.accuracy_score(y_test, predictions))\n",
    "print(classification_report(y_test,predictions))\n",
    "print(mlp)"
   ]
  }
 ],
 "metadata": {
  "kernelspec": {
   "display_name": "Python 3",
   "language": "python",
   "name": "python3"
  },
  "language_info": {
   "codemirror_mode": {
    "name": "ipython",
    "version": 3
   },
   "file_extension": ".py",
   "mimetype": "text/x-python",
   "name": "python",
   "nbconvert_exporter": "python",
   "pygments_lexer": "ipython3",
   "version": "3.7.0"
  }
 },
 "nbformat": 4,
 "nbformat_minor": 4
}
